{
  "nbformat": 4,
  "nbformat_minor": 0,
  "metadata": {
    "colab": {
      "provenance": [],
      "authorship_tag": "ABX9TyPtoYZ7hYfwJFlx5aoYuZCs",
      "include_colab_link": true
    },
    "kernelspec": {
      "name": "python3",
      "display_name": "Python 3"
    },
    "language_info": {
      "name": "python"
    }
  },
  "cells": [
    {
      "cell_type": "markdown",
      "metadata": {
        "id": "view-in-github",
        "colab_type": "text"
      },
      "source": [
        "<a href=\"https://colab.research.google.com/github/WalterTheDataAnalyst/Analysis-for-soccer-players/blob/main/Convolutional_Neural_Network_2.ipynb\" target=\"_parent\"><img src=\"https://colab.research.google.com/assets/colab-badge.svg\" alt=\"Open In Colab\"/></a>"
      ]
    },
    {
      "cell_type": "markdown",
      "source": [
        "Import TensorFlow into the Program"
      ],
      "metadata": {
        "id": "-3LsqmfyriUV"
      }
    },
    {
      "cell_type": "code",
      "execution_count": null,
      "metadata": {
        "id": "2zN3F-DLrXQi"
      },
      "outputs": [],
      "source": [
        "import tensorflow as tf\n",
        "\n",
        "from tensorflow.keras.layers import Dense, Flatten, Conv2D\n",
        "from tensorflow.keras import Model"
      ]
    },
    {
      "cell_type": "markdown",
      "source": [
        "Best for:\n",
        "Full flexibility and control\n",
        "\n",
        "Custom training logic (e.g., custom loss functions, metrics, etc.)\n",
        "\n",
        "Research and advanced experimentation"
      ],
      "metadata": {
        "id": "3sgLIOcDutfD"
      }
    },
    {
      "cell_type": "markdown",
      "source": [
        "### Load Image"
      ],
      "metadata": {
        "id": "SWI7LNh5vDc_"
      }
    },
    {
      "cell_type": "code",
      "source": [
        "mnist =tf.keras.datasets.mnist\n",
        "\n",
        "(x_train, y_train), (x_test, y_test) = mnist.load_data()\n",
        "x_train, x_test = x_train / 255.0, x_test / 255.0\n",
        "\n",
        "\n",
        "#Add a channels dimension\n",
        "x_train = x_train[..., tf.newaxis].astype(\"float32\")\n",
        "x_test = x_test[..., tf.newaxis].astype(\"float32\")"
      ],
      "metadata": {
        "colab": {
          "base_uri": "https://localhost:8080/"
        },
        "id": "xRh2CTYPu4OQ",
        "outputId": "00d92d45-fc2f-407e-b20c-2df988ef4cf9"
      },
      "execution_count": null,
      "outputs": [
        {
          "output_type": "stream",
          "name": "stdout",
          "text": [
            "Downloading data from https://storage.googleapis.com/tensorflow/tf-keras-datasets/mnist.npz\n",
            "\u001b[1m11490434/11490434\u001b[0m \u001b[32m━━━━━━━━━━━━━━━━━━━━\u001b[0m\u001b[37m\u001b[0m \u001b[1m0s\u001b[0m 0us/step\n"
          ]
        }
      ]
    },
    {
      "cell_type": "code",
      "source": [
        "train_ds = tf.data.Dataset.from_tensor_slices((x_train, y_train)).shuffle(10000).batch(32)\n",
        "\n",
        "test_ds = tf.data.Dataset.from_tensor_slices((x_test, y_test)).batch(32)"
      ],
      "metadata": {
        "id": "zLZznvv5x16Q"
      },
      "execution_count": null,
      "outputs": []
    },
    {
      "cell_type": "markdown",
      "source": [
        "Build the tf.keras model using the Keras model subclassing API:"
      ],
      "metadata": {
        "id": "lHV0nupw32BI"
      }
    },
    {
      "cell_type": "code",
      "source": [
        "class MyModel(Model):\n",
        "  def __init__(self):\n",
        "    super().__init__()\n",
        "    self.conv1 = Conv2D(32, 3, activation ='relu')\n",
        "    self.flatten = Flatten()\n",
        "    self.d1 = Dense(128, activation='relu')\n",
        "    self.d2 = Dense(10)\n",
        "\n",
        "  def call(self, x):\n",
        "    x = self.conv1(x)\n",
        "    x = self.flatten(x)\n",
        "    x= self.d1(x)\n",
        "    return self.d2(x)\n",
        "\n",
        "# Create an instance of the model\n",
        "model = MyModel()\n",
        "\n",
        "\n"
      ],
      "metadata": {
        "id": "meUW4BxW33ZH"
      },
      "execution_count": null,
      "outputs": []
    },
    {
      "cell_type": "markdown",
      "source": [
        "Choose an optimizer and loss function for training:"
      ],
      "metadata": {
        "id": "oaPZmnUe_Pqx"
      }
    },
    {
      "cell_type": "code",
      "source": [
        "loss_object = tf.keras.losses.SparseCategoricalCrossentropy(from_logits= True)\n",
        "\n",
        "optimizer = tf.keras.optimizers.Adam()"
      ],
      "metadata": {
        "id": "ewuwNNZR_Q6f"
      },
      "execution_count": null,
      "outputs": []
    },
    {
      "cell_type": "markdown",
      "source": [
        "Select metrics to measure the loss and the accuracy of the model. These metrics accumulate the values over epochs and then print the overall result."
      ],
      "metadata": {
        "id": "-7Na3Zfi1eV-"
      }
    },
    {
      "cell_type": "code",
      "source": [
        "train_loss = tf.keras.metrics.Mean(name='train_loss')\n",
        "train_accuracy = tf.keras.metrics.SparseCategoricalAccuracy(name='train_accuracy')\n",
        "\n",
        "test_loss = tf.keras.metrics.Mean(name='test_loss')\n",
        "test_accuracy = tf.keras.metrics.SparseCategoricalAccuracy(name='test_accuracy')"
      ],
      "metadata": {
        "id": "wV0tBmbD3vl4"
      },
      "execution_count": null,
      "outputs": []
    },
    {
      "cell_type": "code",
      "source": [
        "@tf.function\n",
        "def train_step(images, labels):\n",
        "  with tf.GradientTape() as tape:\n",
        "      # training=True is only needed if there are layers with different\n",
        "      # behavior during training versus inference (e.g. Dropout).\n",
        "      predictions = model(images, training=True)\n",
        "      loss = loss_object(labels, predictions)\n",
        "  gradients = tape.gradient(loss, model.trainable_variables)\n",
        "  optimizer.apply_gradients(zip(gradients, model.trainable_variables))\n",
        "\n",
        "  train_loss(loss)\n",
        "  train_accuracy(labels, predictions)"
      ],
      "metadata": {
        "id": "uKNE4vE6DXCS"
      },
      "execution_count": null,
      "outputs": []
    },
    {
      "cell_type": "markdown",
      "source": [
        "Test the model:"
      ],
      "metadata": {
        "id": "U_lZd1YbFk7v"
      }
    },
    {
      "cell_type": "code",
      "source": [
        "@tf.function\n",
        "def test_step(images, labels):\n",
        "  # training=False is only needed if there are layers with different\n",
        "  # behavior during training versus inference (e.g. Dropout).\n",
        "  predictions = model(images, training=False)\n",
        "  t_loss = loss_object(labels, predictions)\n",
        "\n",
        "  test_loss(t_loss)\n",
        "  test_accuracy(labels, predictions)"
      ],
      "metadata": {
        "id": "cuciZ6dFFkpm"
      },
      "execution_count": null,
      "outputs": []
    },
    {
      "cell_type": "code",
      "source": [
        "EPOCHS = 8\n",
        "\n",
        "for epoch in range(EPOCHS):\n",
        "  #Reset the metrics at the start of the next epoch\n",
        "  train_loss.reset_state()\n",
        "  train_accuracy.reset_state()\n",
        "  test_loss.reset_state()\n",
        "  test_accuracy.reset_state()\n",
        "\n",
        "  for images, labels in train_ds:\n",
        "    train_step(images, labels)\n",
        "\n",
        "  for test_images, test_labels in test_ds:\n",
        "    test_step(test_images, test_labels)\n",
        "\n",
        "  print(\n",
        "      f'Epoch {epoch + 1},'\n",
        "      f'Loss: {train_loss.result(): 0.2f},'\n",
        "      f'Accuracy: {train_accuracy.result() * 100:0.2f}, '\n",
        "      f'Test Loss: {test_loss.result():0.2f}, '\n",
        "      f'Test Accuracy: {test_accuracy.result() * 100:0.2f}'\n",
        "\n",
        " )"
      ],
      "metadata": {
        "colab": {
          "base_uri": "https://localhost:8080/"
        },
        "id": "VVq9UIH1F_4n",
        "outputId": "7a7f1321-c70e-4d7b-a498-67e03d17ff3a"
      },
      "execution_count": null,
      "outputs": [
        {
          "output_type": "stream",
          "name": "stdout",
          "text": [
            "Epoch 1,Loss:  0.01,Accuracy: 99.77, Test Loss: 0.06, Test Accuracy: 98.39\n",
            "Epoch 2,Loss:  0.01,Accuracy: 99.82, Test Loss: 0.06, Test Accuracy: 98.52\n",
            "Epoch 3,Loss:  0.00,Accuracy: 99.83, Test Loss: 0.07, Test Accuracy: 98.54\n",
            "Epoch 4,Loss:  0.00,Accuracy: 99.86, Test Loss: 0.08, Test Accuracy: 98.44\n",
            "Epoch 5,Loss:  0.00,Accuracy: 99.89, Test Loss: 0.08, Test Accuracy: 98.40\n",
            "Epoch 6,Loss:  0.00,Accuracy: 99.89, Test Loss: 0.07, Test Accuracy: 98.64\n",
            "Epoch 7,Loss:  0.00,Accuracy: 99.91, Test Loss: 0.08, Test Accuracy: 98.39\n",
            "Epoch 8,Loss:  0.00,Accuracy: 99.91, Test Loss: 0.09, Test Accuracy: 98.53\n"
          ]
        }
      ]
    },
    {
      "cell_type": "code",
      "source": [],
      "metadata": {
        "id": "mZrqxAJpIEB-"
      },
      "execution_count": null,
      "outputs": []
    }
  ]
}